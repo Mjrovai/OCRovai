{
 "cells": [
  {
   "cell_type": "code",
   "execution_count": 1,
   "metadata": {
    "ExecuteTime": {
     "end_time": "2020-05-25T21:38:20.742607Z",
     "start_time": "2020-05-25T21:38:20.061481Z"
    }
   },
   "outputs": [],
   "source": [
    "import matplotlib.pyplot as plt\n",
    "from PIL import Image\n",
    "from pytesseract import Output\n",
    "import pytesseract\n",
    "import argparse\n",
    "import cv2"
   ]
  },
  {
   "cell_type": "code",
   "execution_count": 2,
   "metadata": {
    "ExecuteTime": {
     "end_time": "2020-05-25T21:38:33.545497Z",
     "start_time": "2020-05-25T21:38:33.542599Z"
    }
   },
   "outputs": [],
   "source": [
    "img_file = './images/IMG_350.JPG'\n",
    "min_conf = 0"
   ]
  },
  {
   "cell_type": "code",
   "execution_count": 3,
   "metadata": {
    "ExecuteTime": {
     "end_time": "2020-05-25T21:38:37.645604Z",
     "start_time": "2020-05-25T21:38:34.965873Z"
    }
   },
   "outputs": [
    {
     "name": "stdout",
     "output_type": "stream",
     "text": [
      "keiten dann in solche der \"Intelligenz\" des oberen Sinnesbereichs. In dep\n",
      "\n",
      "Waldorfschule legt man Begabungen der \"Intelligenz\" an durch \"sinnvolieg\n",
      "\n",
      "Tun\", durch Eurythmie, Handarbeit, --- Formenzeichnen! (Das pédago-\n",
      "\n",
      "e, direkte Ansprechen der geistigen Fahigkeiten hingegen\n",
      "*\n",
      "verwandelt sich in Gesundheit des Leibes! )\n",
      "\n",
      "gisch richtig\n",
      "\n",
      "Mit der Betonung der Tatigkeiten des Gewichtens, Bewegens, Ordnens\n",
      "und Tastens gleichsam auf jeder Seite unserer Ubungsfolge wollten wir den\n",
      "iibenden Zeichner sensibilisieren fir einen spezifischen Einsatz dieser\n",
      "Qualitaten - insbesondere mit Hinblick auf deren Zusammenhang mit den\n",
      "entsprechenden geistigen Korrelaten - im pddagogischen und therapeu-\n",
      "tischen Proze®. Eine durch Rudolf Steiner geschulte Menschenkunde setzt\n",
      "doch den Lehrer in die Lage, unter seinen Schulern solche herauszufin-\n",
      "den, die einer der vier im folgenden aufgefiihrten Gruppen angehoren (die\n",
      "Benennung dieser Gruppen erfolgt spontan aus den oben geschilderten\n",
      "\n",
      "Zusammenhangen):\n",
      "\n",
      "Der Gleichgewichts-Typ: er hat mit den Problemen seines eigenen Gleich-\n",
      "\n",
      " \n",
      "\n",
      "gewichts, leiblich oder seelisch, zu ringen. Leicht kann er es verlieren;\n",
      "dann zeigt er sich vielleicht als jahzorniger Grobian, allenfalls sogar als\n",
      "Verkrampfter oder Tobender. Als positive Seite kann er feurige StoBkraft\n",
      "beweisen, bestenfalls auch krafterfiillte Ruhe. Sein Temperament ist oft\n",
      "\n",
      "das cholerische.\n",
      "\n",
      "Der Bewegungstyp: Er neigt dazu, feste Ordnungen nicht zu streng 2U\n",
      "\n",
      "nehmen; er kann ein flatterhafter Luftibus, ein Hansdampf-in-allen-Gas-\n",
      "\n",
      "* Uber Rudolf Steiners Sinneslehre: siehe Heft 4 des \"Studien-\n",
      "\n",
      "materials der Vereinigung der Waldorfkindergirten\": Die zwdlf\n",
      "\n",
      "Sinne des Menschen, Stuttgart 1971; und die darin aufgefuhrte\n",
      "vollstandige Bibliographie\n",
      "\n",
      "350\n"
     ]
    }
   ],
   "source": [
    "print(pytesseract.image_to_string(Image.open(img_file)))"
   ]
  },
  {
   "cell_type": "code",
   "execution_count": null,
   "metadata": {
    "ExecuteTime": {
     "end_time": "2020-05-25T21:20:42.930232Z",
     "start_time": "2020-05-25T21:20:40.102674Z"
    }
   },
   "outputs": [],
   "source": [
    "image = cv2.imread(img_file)\n",
    "rgb = cv2.cvtColor(image, cv2.COLOR_BGR2RGB)\n",
    "results = pytesseract.image_to_data(rgb, output_type=Output.DICT)"
   ]
  },
  {
   "cell_type": "code",
   "execution_count": null,
   "metadata": {},
   "outputs": [],
   "source": []
  },
  {
   "cell_type": "code",
   "execution_count": null,
   "metadata": {
    "ExecuteTime": {
     "end_time": "2020-05-25T21:20:43.013128Z",
     "start_time": "2020-05-25T21:20:42.950675Z"
    },
    "scrolled": true
   },
   "outputs": [],
   "source": [
    "# loop over each of the individual text localizations\n",
    "ocr_txt = []\n",
    "for i in range(0, len(results[\"text\"])):\n",
    "    # extract the bounding box coordinates of the text region from\n",
    "    # the current result\n",
    "    x = results[\"left\"][i]\n",
    "    y = results[\"top\"][i]\n",
    "    w = results[\"width\"][i]\n",
    "    h = results[\"height\"][i]\n",
    "    # extract the OCR text itself along with the confidence of the\n",
    "    # text localization\n",
    "    text = results[\"text\"][i]\n",
    "    conf = int(results[\"conf\"][i])\n",
    "    # filter out weak confidence text localizations\n",
    "    ocr_txt.append(text+' ')\n",
    "    if conf > min_conf:\n",
    "        # display the confidence and text to our terminal\n",
    "        print(\"Confidence: {}\".format(conf))\n",
    "        print(\"Text: {}\".format(text))\n",
    "        print(\"\")\n",
    "        # strip out non-ASCII text so we can draw the text on the image\n",
    "        # using OpenCV, then draw a bounding box around the text along\n",
    "        # with the text itself\n",
    "        text = \"\".join([c if ord(c) < 128 else \"\" for c in text]).strip() \n",
    "        cv2.rectangle(image, (x, y), (x + w, y + h), (0, 255, 0), 2)\n",
    "        cv2.putText(image, text, (x, y - 10), cv2.FONT_HERSHEY_SIMPLEX,\n",
    "            1.2, (0, 0, 255), 3)"
   ]
  },
  {
   "cell_type": "code",
   "execution_count": null,
   "metadata": {
    "ExecuteTime": {
     "end_time": "2020-05-25T21:20:49.297877Z",
     "start_time": "2020-05-25T21:20:49.287751Z"
    }
   },
   "outputs": [],
   "source": [
    "ocr_txt"
   ]
  },
  {
   "cell_type": "code",
   "execution_count": null,
   "metadata": {
    "ExecuteTime": {
     "start_time": "2020-05-25T21:21:04.338Z"
    },
    "scrolled": false
   },
   "outputs": [],
   "source": [
    "# show the output image\n",
    "cv2.imshow(img_file, image)\n",
    "cv2.waitKey(0)\n",
    "\n",
    "#img_out = plt.imread(imagePath)\n",
    "#plt.imshow(img_file, image)"
   ]
  },
  {
   "cell_type": "code",
   "execution_count": null,
   "metadata": {
    "ExecuteTime": {
     "end_time": "2020-05-25T20:43:53.494452Z",
     "start_time": "2020-05-25T20:43:53.379011Z"
    }
   },
   "outputs": [],
   "source": [
    "text"
   ]
  },
  {
   "cell_type": "code",
   "execution_count": null,
   "metadata": {},
   "outputs": [],
   "source": []
  }
 ],
 "metadata": {
  "kernelspec": {
   "display_name": "Geo_0_7_0",
   "language": "python",
   "name": "geo_0_7_0"
  },
  "language_info": {
   "codemirror_mode": {
    "name": "ipython",
    "version": 3
   },
   "file_extension": ".py",
   "mimetype": "text/x-python",
   "name": "python",
   "nbconvert_exporter": "python",
   "pygments_lexer": "ipython3",
   "version": "3.7.7"
  },
  "nbTranslate": {
   "displayLangs": [
    "*"
   ],
   "hotkey": "alt-t",
   "langInMainMenu": true,
   "sourceLang": "en",
   "targetLang": "fr",
   "useGoogleTranslate": true
  },
  "toc": {
   "base_numbering": 1,
   "nav_menu": {},
   "number_sections": true,
   "sideBar": true,
   "skip_h1_title": false,
   "title_cell": "Table of Contents",
   "title_sidebar": "Contents",
   "toc_cell": false,
   "toc_position": {},
   "toc_section_display": true,
   "toc_window_display": false
  },
  "varInspector": {
   "cols": {
    "lenName": 16,
    "lenType": 16,
    "lenVar": 40
   },
   "kernels_config": {
    "python": {
     "delete_cmd_postfix": "",
     "delete_cmd_prefix": "del ",
     "library": "var_list.py",
     "varRefreshCmd": "print(var_dic_list())"
    },
    "r": {
     "delete_cmd_postfix": ") ",
     "delete_cmd_prefix": "rm(",
     "library": "var_list.r",
     "varRefreshCmd": "cat(var_dic_list()) "
    }
   },
   "types_to_exclude": [
    "module",
    "function",
    "builtin_function_or_method",
    "instance",
    "_Feature"
   ],
   "window_display": false
  }
 },
 "nbformat": 4,
 "nbformat_minor": 4
}
